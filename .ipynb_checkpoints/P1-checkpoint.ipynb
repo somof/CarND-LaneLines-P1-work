{
 "cells": [
  {
   "cell_type": "markdown",
   "metadata": {},
   "source": [
    "# Self-Driving Car Engineer Nanodegree\n",
    "\n",
    "\n",
    "## Project: **Finding Lane Lines on the Road** \n",
    "***\n",
    "In this project, you will use the tools you learned about in the lesson to identify lane lines on the road.  You can develop your pipeline on a series of individual images, and later apply the result to a video stream (really just a series of images). Check out the video clip \"raw-lines-example.mp4\" (also contained in this repository) to see what the output should look like after using the helper functions below. \n",
    "\n",
    "Once you have a result that looks roughly like \"raw-lines-example.mp4\", you'll need to get creative and try to average and/or extrapolate the line segments you've detected to map out the full extent of the lane lines.  You can see an example of the result you're going for in the video \"P1_example.mp4\".  Ultimately, you would like to draw just one line for the left side of the lane, and one for the right.\n",
    "\n",
    "In addition to implementing code, there is a brief writeup to complete. The writeup should be completed in a separate file, which can be either a markdown file or a pdf document. There is a [write up template](https://github.com/udacity/CarND-LaneLines-P1/blob/master/writeup_template.md) that can be used to guide the writing process. Completing both the code in the Ipython notebook and the writeup template will cover all of the [rubric points](https://review.udacity.com/#!/rubrics/322/view) for this project.\n",
    "\n",
    "---\n",
    "Let's have a look at our first image called 'test_images/solidWhiteRight.jpg'.  Run the 2 cells below (hit Shift-Enter or the \"play\" button above) to display the image.\n",
    "\n",
    "**Note: If, at any point, you encounter frozen display windows or other confounding issues, you can always start again with a clean slate by going to the \"Kernel\" menu above and selecting \"Restart & Clear Output\".**\n",
    "\n",
    "---"
   ]
  },
  {
   "cell_type": "markdown",
   "metadata": {},
   "source": [
    "**The tools you have are color selection, region of interest selection, grayscaling, Gaussian smoothing, Canny Edge Detection and Hough Tranform line detection.  You  are also free to explore and try other techniques that were not presented in the lesson.  Your goal is piece together a pipeline to detect the line segments in the image, then average/extrapolate them and draw them onto the image for display (as below).  Once you have a working pipeline, try it out on the video stream below.**\n",
    "\n",
    "---\n",
    "\n",
    "<figure>\n",
    " <img src=\"examples/line-segments-example.jpg\" width=\"380\" alt=\"Combined Image\" />\n",
    " <figcaption>\n",
    " <p></p> \n",
    " <p style=\"text-align: center;\"> Your output should look something like this (above) after detecting line segments using the helper functions below </p> \n",
    " </figcaption>\n",
    "</figure>\n",
    " <p></p> \n",
    "<figure>\n",
    " <img src=\"examples/laneLines_thirdPass.jpg\" width=\"380\" alt=\"Combined Image\" />\n",
    " <figcaption>\n",
    " <p></p> \n",
    " <p style=\"text-align: center;\"> Your goal is to connect/average/extrapolate line segments to get output like this</p> \n",
    " </figcaption>\n",
    "</figure>"
   ]
  },
  {
   "cell_type": "markdown",
   "metadata": {},
   "source": [
    "**Run the cell below to import some packages.  If you get an `import error` for a package you've already installed, try changing your kernel (select the Kernel menu above --> Change Kernel).  Still have problems?  Try relaunching Jupyter Notebook from the terminal prompt.  Also, see [this forum post](https://carnd-forums.udacity.com/cq/viewquestion.action?spaceKey=CAR&id=29496372&questionTitle=finding-lanes---import-cv2-fails-even-though-python-in-the-terminal-window-has-no-problem-with-import-cv2) for more troubleshooting tips.**  "
   ]
  },
  {
   "cell_type": "markdown",
   "metadata": {},
   "source": [
    "## Import Packages"
   ]
  },
  {
   "cell_type": "code",
   "execution_count": 9,
   "metadata": {},
   "outputs": [
    {
     "ename": "ImportError",
     "evalue": "No module named 'cv2'",
     "output_type": "error",
     "traceback": [
      "\u001b[0;31m---------------------------------------------------------------------------\u001b[0m",
      "\u001b[0;31mImportError\u001b[0m                               Traceback (most recent call last)",
      "\u001b[0;32m<ipython-input-9-69f36577ffd4>\u001b[0m in \u001b[0;36m<module>\u001b[0;34m()\u001b[0m\n\u001b[1;32m      3\u001b[0m \u001b[0;32mimport\u001b[0m \u001b[0mmatplotlib\u001b[0m\u001b[0;34m.\u001b[0m\u001b[0mimage\u001b[0m \u001b[0;32mas\u001b[0m \u001b[0mmpimg\u001b[0m\u001b[0;34m\u001b[0m\u001b[0m\n\u001b[1;32m      4\u001b[0m \u001b[0;32mimport\u001b[0m \u001b[0mnumpy\u001b[0m \u001b[0;32mas\u001b[0m \u001b[0mnp\u001b[0m\u001b[0;34m\u001b[0m\u001b[0m\n\u001b[0;32m----> 5\u001b[0;31m \u001b[0;32mimport\u001b[0m \u001b[0mcv2\u001b[0m\u001b[0;34m\u001b[0m\u001b[0m\n\u001b[0m\u001b[1;32m      6\u001b[0m \u001b[0mget_ipython\u001b[0m\u001b[0;34m(\u001b[0m\u001b[0;34m)\u001b[0m\u001b[0;34m.\u001b[0m\u001b[0mmagic\u001b[0m\u001b[0;34m(\u001b[0m\u001b[0;34m'matplotlib inline'\u001b[0m\u001b[0;34m)\u001b[0m\u001b[0;34m\u001b[0m\u001b[0m\n",
      "\u001b[0;31mImportError\u001b[0m: No module named 'cv2'"
     ]
    }
   ],
   "source": [
    "#importing some useful packages\n",
    "import matplotlib.pyplot as plt\n",
    "import matplotlib.image as mpimg\n",
    "import numpy as np\n",
    "import cv2\n",
    "%matplotlib inline"
   ]
  },
  {
   "cell_type": "markdown",
   "metadata": {},
   "source": [
    "## Read in an Image"
   ]
  },
  {
   "cell_type": "code",
   "execution_count": null,
   "metadata": {},
   "outputs": [],
   "source": [
    "#reading in an image\n",
    "image = mpimg.imread('test_images/solidWhiteRight.jpg')\n",
    "\n",
    "#printing out some stats and plotting\n",
    "print('This image is:', type(image), 'with dimensions:', image.shape)\n",
    "plt.imshow(image)  # if you wanted to show a single color channel image called 'gray', for example, call as plt.imshow(gray, cmap='gray')"
   ]
  },
  {
   "cell_type": "markdown",
   "metadata": {},
   "source": [
    "## Ideas for Lane Detection Pipeline"
   ]
  },
  {
   "cell_type": "markdown",
   "metadata": {},
   "source": [
    "**Some OpenCV functions (beyond those introduced in the lesson) that might be useful for this project are:**\n",
    "\n",
    "`cv2.inRange()` for color selection  \n",
    "`cv2.fillPoly()` for regions selection  \n",
    "`cv2.line()` to draw lines on an image given endpoints  \n",
    "`cv2.addWeighted()` to coadd / overlay two images\n",
    "`cv2.cvtColor()` to grayscale or change color\n",
    "`cv2.imwrite()` to output images to file  \n",
    "`cv2.bitwise_and()` to apply a mask to an image\n",
    "\n",
    "**Check out the OpenCV documentation to learn about these and discover even more awesome functionality!**"
   ]
  },
  {
   "cell_type": "markdown",
   "metadata": {},
   "source": [
    "## Helper Functions"
   ]
  },
  {
   "cell_type": "markdown",
   "metadata": {},
   "source": [
    "Below are some helper functions to help get you started. They should look familiar from the lesson!"
   ]
  },
  {
   "cell_type": "code",
   "execution_count": 3,
   "metadata": {
    "collapsed": true
   },
   "outputs": [],
   "source": [
    "import math\n",
    "\n",
    "def grayscale(img):\n",
    "    \"\"\"Applies the Grayscale transform\n",
    "    This will return an image with only one color channel\n",
    "    but NOTE: to see the returned image as grayscale\n",
    "    (assuming your grayscaled image is called 'gray')\n",
    "    you should call plt.imshow(gray, cmap='gray')\"\"\"\n",
    "    # return cv2.cvtColor(img, cv2.COLOR_RGB2GRAY)\n",
    "    # Or use BGR2GRAY if you read an image with cv2.imread()\n",
    "    # return cv2.cvtColor(img, cv2.COLOR_BGR2GRAY)\n",
    "    \n",
    "    # Lines to detect are colored woth White or Yellow\n",
    "    # So GrayScale should be created from R and G.\n",
    "    RGB = cv2.split(img)\n",
    "    return cv2.addWeighted(RGB[0], 0.5, RGB[1], 0.5, 0.0)\n",
    "\n",
    "def canny(img, low_threshold, high_threshold):\n",
    "    \"\"\"Applies the Canny transform\"\"\"\n",
    "    return cv2.Canny(img, low_threshold, high_threshold)\n",
    "\n",
    "def gaussian_blur(img, kernel_size):\n",
    "    \"\"\"Applies a Gaussian Noise kernel\"\"\"\n",
    "    return cv2.GaussianBlur(img, (kernel_size, kernel_size), 0)\n",
    "\n",
    "def region_of_interest(img, vertices):\n",
    "    \"\"\"\n",
    "    Applies an image mask.\n",
    "    \n",
    "    Only keeps the region of the image defined by the polygon\n",
    "    formed from `vertices`. The rest of the image is set to black.\n",
    "    \"\"\"\n",
    "    #defining a blank mask to start with\n",
    "    mask = np.zeros_like(img)   \n",
    "    \n",
    "    #defining a 3 channel or 1 channel color to fill the mask with depending on the input image\n",
    "    if len(img.shape) > 2:\n",
    "        channel_count = img.shape[2]  # i.e. 3 or 4 depending on your image\n",
    "        ignore_mask_color = (255,) * channel_count\n",
    "    else:\n",
    "        ignore_mask_color = 255\n",
    "        \n",
    "    #filling pixels inside the polygon defined by \"vertices\" with the fill color    \n",
    "    cv2.fillPoly(mask, vertices, ignore_mask_color)\n",
    "    \n",
    "    #returning the image only where mask pixels are nonzero\n",
    "    masked_image = cv2.bitwise_and(img, mask)\n",
    "    return masked_image\n",
    "\n",
    "\n",
    "def draw_lines(img, lines, color=[255, 0, 0], thickness=2):\n",
    "    \"\"\"\n",
    "    NOTE: this is the function you might want to use as a starting point once you want to \n",
    "    average/extrapolate the line segments you detect to map out the full\n",
    "    extent of the lane (going from the result shown in raw-lines-example.mp4\n",
    "    to that shown in P1_example.mp4).  \n",
    "    \n",
    "    Think about things like separating line segments by their \n",
    "    slope ((y2-y1)/(x2-x1)) to decide which segments are part of the left\n",
    "    line vs. the right line.  Then, you can average the position of each of \n",
    "    the lines and extrapolate to the top and bottom of the lane.\n",
    "    \n",
    "    This function draws `lines` with `color` and `thickness`.    \n",
    "    Lines are drawn on the image inplace (mutates the image).\n",
    "    If you want to make the lines semi-transparent, think about combining\n",
    "    this function with the weighted_img() function below\n",
    "    \"\"\"\n",
    "    for line in lines:\n",
    "        for x1,y1,x2,y2 in line:\n",
    "            cv2.line(img, (x1, y1), (x2, y2), color, thickness)\n",
    "\n",
    "            \n",
    "def devide_points(x1, y1, x2, y2):\n",
    "    length = math.hypot(x2 - x1, y2 - y1)\n",
    "    num = int(math.sqrt(length))\n",
    "    lines = []\n",
    "    for i in range(0, num):\n",
    "        lines.append([x1 + i * (x2 - x1) / num,\n",
    "                      y1 + i * (y2 - y1) / num])\n",
    "    return lines\n",
    "\n",
    "\n",
    "def hough_lines(img, rho, theta, threshold, min_line_len, max_line_gap):\n",
    "    \"\"\"\n",
    "    `img` should be the output of a Canny transform.\n",
    "        \n",
    "    Returns an image with hough lines drawn.\n",
    "    \"\"\"\n",
    "    # lines = cv2.HoughLinesP(img, rho, theta, threshold, np.array([]), minLineLength=min_line_len, maxLineGap=max_line_gap)\n",
    "    # line_img = np.zeros((img.shape[0], img.shape[1], 3), dtype=np.uint8)\n",
    "    # draw_lines(line_img, lines)\n",
    "    # return line_img\n",
    "    lines = cv2.HoughLinesP(img, rho, theta, threshold, np.array([]), minLineLength=min_line_len, maxLineGap=max_line_gap)\n",
    "\n",
    "    # detect left and right line separately\n",
    "    left_points = []\n",
    "    right_points = []\n",
    "    filtered_lines = []\n",
    "    if lines is not None:\n",
    "        # print(len(lines))\n",
    "        for line in lines:\n",
    "            for x1, y1, x2, y2 in line:\n",
    "                length = math.hypot(x2 - x1, y2 - y1)\n",
    "                theta = math.atan2((y2 - y1), (x2 - x1))\n",
    "                degree = math.degrees(theta)\n",
    "                # print(theta, degree, length)\n",
    "                if 5 < length and  0.05*math.pi < theta and theta <  0.45*math.pi:\n",
    "                    filtered_lines.append([[x1, y1, x2, y2]])\n",
    "                    right_points.extend(devide_points(x1, y1, x2, y2))\n",
    "\n",
    "                if 5 < length and -0.45*math.pi < theta and theta < -0.05*math.pi:\n",
    "                    filtered_lines.append([[x1, y1, x2, y2]])\n",
    "                    left_points.extend(devide_points(x1, y1, x2, y2))\n",
    "\n",
    "    line_img = np.zeros((img.shape[0], img.shape[1], 3), dtype=np.uint8)\n",
    "    draw_lines(line_img, filtered_lines)\n",
    "    \n",
    "   \n",
    "\n",
    "# Python 3 has support for cool math symbols.\n",
    "\n",
    "def weighted_img(img, initial_img, α=0.8, β=1., λ=0.):\n",
    "    \"\"\"\n",
    "    `img` is the output of the hough_lines(), An image with lines drawn on it.\n",
    "    Should be a blank image (all black) with lines drawn on it.\n",
    "    \n",
    "    `initial_img` should be the image before any processing.\n",
    "    \n",
    "    The result image is computed as follows:\n",
    "    \n",
    "    initial_img * α + img * β + λ\n",
    "    NOTE: initial_img and img must be the same shape!\n",
    "    \"\"\"\n",
    "    return cv2.addWeighted(initial_img, α, img, β, λ)"
   ]
  },
  {
   "cell_type": "markdown",
   "metadata": {},
   "source": [
    "## Test Images\n",
    "\n",
    "Build your pipeline to work on the images in the directory \"test_images\"  \n",
    "**You should make sure your pipeline works well on these images before you try the videos.**"
   ]
  },
  {
   "cell_type": "code",
   "execution_count": 2,
   "metadata": {
    "scrolled": true
   },
   "outputs": [
    {
     "data": {
      "text/plain": [
       "['solidWhiteRight_000003.jpg',\n",
       " 'solidYellowLeft_000042.jpg',\n",
       " 'solidYellowLeft_000014.jpg',\n",
       " 'solidYellowLeft_000025.jpg',\n",
       " 'challenge_000022.jpg',\n",
       " 'solidYellowLeft_000016.jpg',\n",
       " 'solidYellowLeft_000036.jpg',\n",
       " 'solidYellowLeft_000026.jpg',\n",
       " 'solidYellowLeft_000003.jpg',\n",
       " 'challenge_000003.jpg',\n",
       " 'solidYellowLeft_000041.jpg',\n",
       " 'challenge_000018.jpg',\n",
       " 'solidYellowLeft_000047.jpg',\n",
       " 'solidYellowLeft_000017.jpg',\n",
       " 'solidYellowLeft_000013.jpg',\n",
       " 'solidYellowLeft_000056.jpg',\n",
       " 'challenge_000019.jpg',\n",
       " 'challenge_000020.jpg',\n",
       " 'solidYellowLeft_000019.jpg',\n",
       " 'challenge_000005.jpg',\n",
       " 'solidWhiteRight_000007.jpg',\n",
       " 'solidYellowLeft_000052.jpg',\n",
       " 'solidWhiteRight.jpg',\n",
       " 'solidYellowLeft_000009.jpg',\n",
       " 'solidYellowLeft_000050.jpg',\n",
       " 'solidWhiteRight_000002.jpg',\n",
       " 'challenge_000012.jpg',\n",
       " 'solidYellowLeft_000010.jpg',\n",
       " 'challenge_000006.jpg',\n",
       " 'challenge_000013.jpg',\n",
       " 'solidYellowLeft_000030.jpg',\n",
       " 'solidYellowLeft_000020.jpg',\n",
       " 'challenge_000001.jpg',\n",
       " 'solidYellowLeft_000029.jpg',\n",
       " 'solidYellowLeft_000031.jpg',\n",
       " 'solidWhiteRight_000004.jpg',\n",
       " 'solidWhiteRight_000016.jpg',\n",
       " 'solidYellowLeft_000021.jpg',\n",
       " 'solidYellowLeft.jpg',\n",
       " 'solidWhiteRight_000014.jpg',\n",
       " 'solidWhiteRight_000008.jpg',\n",
       " 'solidYellowLeft_000053.jpg',\n",
       " 'solidYellowLeft_000006.jpg',\n",
       " 'challenge_000014.jpg',\n",
       " 'solidYellowLeft_000040.jpg',\n",
       " 'solidYellowLeft_000034.jpg',\n",
       " 'solidYellowLeft_000012.jpg',\n",
       " 'solidYellowLeft_000039.jpg',\n",
       " 'challenge_000008.jpg',\n",
       " 'solidYellowLeft_000035.jpg',\n",
       " 'solidYellowLeft_000033.jpg',\n",
       " 'challenge_000016.jpg',\n",
       " 'solidYellowLeft_000004.jpg',\n",
       " 'solidYellowLeft_000046.jpg',\n",
       " 'solidYellowLeft_000055.jpg',\n",
       " 'challenge_000009.jpg',\n",
       " 'solidYellowLeft_000051.jpg',\n",
       " 'solidYellowLeft_000018.jpg',\n",
       " 'solidYellowLeft_000008.jpg',\n",
       " 'challenge_000021.jpg',\n",
       " 'challenge_000010.jpg',\n",
       " 'solidYellowLeft_000043.jpg',\n",
       " 'solidYellowLeft_000022.jpg',\n",
       " 'challenge_000011.jpg',\n",
       " 'solidYellowLeft_000037.jpg',\n",
       " 'solidYellowLeft_000048.jpg',\n",
       " 'solidYellowLeft_000007.jpg',\n",
       " 'solidYellowLeft_000038.jpg',\n",
       " 'solidWhiteRight_000005.jpg',\n",
       " 'solidWhiteRight_000017.jpg',\n",
       " 'solidYellowCurve2.jpg',\n",
       " 'solidWhiteRight_000015.jpg',\n",
       " 'solidYellowLeft_000024.jpg',\n",
       " 'solidWhiteRight_000011.jpg',\n",
       " 'solidYellowLeft_000023.jpg',\n",
       " 'solidYellowLeft_000028.jpg',\n",
       " 'solidWhiteRight_000013.jpg',\n",
       " 'solidYellowLeft_000011.jpg',\n",
       " 'solidWhiteRight_000018.jpg',\n",
       " 'solidYellowLeft_000002.jpg',\n",
       " 'solidWhiteRight_000010.jpg',\n",
       " 'solidYellowLeft_000005.jpg',\n",
       " 'solidYellowCurve.jpg',\n",
       " 'solidYellowLeft_000015.jpg',\n",
       " 'solidYellowLeft_000049.jpg',\n",
       " 'solidYellowLeft_000001.jpg',\n",
       " 'solidYellowLeft_000032.jpg',\n",
       " 'whiteCarLaneSwitch.jpg',\n",
       " 'solidWhiteRight_000019.jpg',\n",
       " 'solidWhiteCurve.jpg',\n",
       " 'challenge_000002.jpg',\n",
       " 'solidWhiteRight_000012.jpg',\n",
       " 'solidYellowLeft_000054.jpg',\n",
       " 'solidWhiteRight_000001.jpg',\n",
       " 'solidWhiteRight_000006.jpg',\n",
       " 'solidYellowLeft_000045.jpg',\n",
       " 'solidYellowLeft_000044.jpg',\n",
       " 'challenge_000007.jpg',\n",
       " 'solidYellowLeft_000027.jpg',\n",
       " 'challenge_000004.jpg',\n",
       " 'solidWhiteRight_000009.jpg',\n",
       " 'challenge_000017.jpg',\n",
       " 'challenge_000015.jpg']"
      ]
     },
     "execution_count": 2,
     "metadata": {},
     "output_type": "execute_result"
    }
   ],
   "source": [
    "import os\n",
    "os.listdir(\"test_images/\")"
   ]
  },
  {
   "cell_type": "markdown",
   "metadata": {},
   "source": [
    "## Build a Lane Finding Pipeline\n",
    "\n"
   ]
  },
  {
   "cell_type": "markdown",
   "metadata": {},
   "source": [
    "Build the pipeline and run your solution on all test_images. Make copies into the `test_images_output` directory, and you can use the images in your writeup report.\n",
    "\n",
    "Try tuning the various parameters, especially the low and high Canny thresholds as well as the Hough lines parameters."
   ]
  },
  {
   "cell_type": "code",
   "execution_count": null,
   "metadata": {
    "collapsed": true
   },
   "outputs": [],
   "source": [
    "# TODO: Build your pipeline that will draw lane lines on the test_images\n",
    "# then save them to the test_images directory."
   ]
  },
  {
   "cell_type": "markdown",
   "metadata": {},
   "source": [
    "## Test on Videos\n",
    "\n",
    "You know what's cooler than drawing lanes over images? Drawing lanes over video!\n",
    "\n",
    "We can test our solution on two provided videos:\n",
    "\n",
    "`solidWhiteRight.mp4`\n",
    "\n",
    "`solidYellowLeft.mp4`\n",
    "\n",
    "**Note: if you get an `import error` when you run the next cell, try changing your kernel (select the Kernel menu above --> Change Kernel).  Still have problems?  Try relaunching Jupyter Notebook from the terminal prompt. Also, check out [this forum post](https://carnd-forums.udacity.com/questions/22677062/answers/22677109) for more troubleshooting tips.**\n",
    "\n",
    "**If you get an error that looks like this:**\n",
    "```\n",
    "NeedDownloadError: Need ffmpeg exe. \n",
    "You can download it by calling: \n",
    "imageio.plugins.ffmpeg.download()\n",
    "```\n",
    "**Follow the instructions in the error message and check out [this forum post](https://carnd-forums.udacity.com/display/CAR/questions/26218840/import-videofileclip-error) for more troubleshooting tips across operating systems.**"
   ]
  },
  {
   "cell_type": "code",
   "execution_count": 6,
   "metadata": {},
   "outputs": [
    {
     "ename": "ImportError",
     "evalue": "No module named 'moviepy'",
     "output_type": "error",
     "traceback": [
      "\u001b[0;31m---------------------------------------------------------------------------\u001b[0m",
      "\u001b[0;31mImportError\u001b[0m                               Traceback (most recent call last)",
      "\u001b[0;32m<ipython-input-6-b16dd2c24d5c>\u001b[0m in \u001b[0;36m<module>\u001b[0;34m()\u001b[0m\n\u001b[1;32m      1\u001b[0m \u001b[0;31m# Import everything needed to edit/save/watch video clips\u001b[0m\u001b[0;34m\u001b[0m\u001b[0;34m\u001b[0m\u001b[0m\n\u001b[0;32m----> 2\u001b[0;31m \u001b[0;32mfrom\u001b[0m \u001b[0mmoviepy\u001b[0m\u001b[0;34m.\u001b[0m\u001b[0meditor\u001b[0m \u001b[0;32mimport\u001b[0m \u001b[0mVideoFileClip\u001b[0m\u001b[0;34m\u001b[0m\u001b[0m\n\u001b[0m\u001b[1;32m      3\u001b[0m \u001b[0;32mfrom\u001b[0m \u001b[0mIPython\u001b[0m\u001b[0;34m.\u001b[0m\u001b[0mdisplay\u001b[0m \u001b[0;32mimport\u001b[0m \u001b[0mHTML\u001b[0m\u001b[0;34m\u001b[0m\u001b[0m\n",
      "\u001b[0;31mImportError\u001b[0m: No module named 'moviepy'"
     ]
    }
   ],
   "source": [
    "# Import everything needed to edit/save/watch video clips\n",
    "from moviepy.editor import VideoFileClip\n",
    "from IPython.display import HTML"
   ]
  },
  {
   "cell_type": "code",
   "execution_count": 7,
   "metadata": {
    "collapsed": true
   },
   "outputs": [],
   "source": [
    "def regression_line(img, points, hrange, color, thickness):\n",
    "\n",
    "    # transform point list\n",
    "    x = [d[0] for d in points]\n",
    "    y = [d[1] for d in points]\n",
    "\n",
    "    # Linear regressor\n",
    "    # slope, intercept, r_value, _, _ = stats.linregress(x, y)\n",
    "    # # func = lambda x: x * slope + intercept\n",
    "    # func = lambda y: int((y - intercept) / slope)\n",
    "    # cv2.line(img, (func(500), 500), (func(300), 300), color, thickness)\n",
    "\n",
    "    if 30 < len(x):\n",
    "        # RANSAC regressor\n",
    "        model_ransac = linear_model.RANSACRegressor(linear_model.LinearRegression(),\n",
    "                                                    min_samples=24,\n",
    "                                                    residual_threshold=15,\n",
    "                                                    # is_data_valid=is_data_valid,\n",
    "                                                    # random_state=0\n",
    "                                                    )\n",
    "        if model_ransac is not None:\n",
    "            X = np.array(x)\n",
    "            # X = x[:, np.newaxis]\n",
    "            model_ransac.fit(X[:, np.newaxis], y)\n",
    "            # inlier_mask = model_ransac.inlier_mask_\n",
    "            # outlier_mask = np.logical_not(inlier_mask)\n",
    "        \n",
    "            # line_x = np.arange(100, 401, 300)\n",
    "            line_x = np.arange(hrange[0], hrange[1], hrange[1] - hrange[0] - 1)\n",
    "            line_y = model_ransac.predict(line_x[:, np.newaxis])\n",
    "            # print(line_x)\n",
    "            # print(line_y)\n",
    "        \n",
    "        \n",
    "            # func = lambda x: x * slope + intercept\n",
    "            # cv2.line(img,\n",
    "            #          (int(line_x[0]), int(line_y[0])),\n",
    "            #          (int(line_x[1]), int(line_y[1])),\n",
    "            #          color, thickness)\n",
    "\n",
    "            return img, (int(line_x[0]), int(line_y[0])), (int(line_x[1]), int(line_y[1]))\n",
    "\n",
    "    return img, [0, 0], [0, 0]\n",
    "\n",
    "\n",
    "def process_image(image):\n",
    "    # NOTE: The output you return should be a color image (3 channel) for processing video below\n",
    "    # TODO: put your pipeline here,\n",
    "    # you should return the final output (image where lines are drawn on lanes)\n",
    "\n",
    "    normalized_image = cv2.resize(image, (1000, 500))\n",
    "    # print(normalized_image.shape)\n",
    "\n",
    "    # Step1: create GrayScale and normalize size\n",
    "    gray = grayscale(normalized_image)\n",
    "\n",
    "\n",
    "\n",
    "    # Step2: Edge Detection\n",
    "    blur_gray = gaussian_blur(gray, 5)\n",
    "    # edges = canny(blur_gray, 50, 150)\n",
    "    edges = canny(blur_gray, 0, 150)\n",
    "\n",
    "    # Step3: Mask\n",
    "    #imshape = image.shape\n",
    "    imshape = normalized_image.shape\n",
    "    vertices = np.array([[(100, 500),\n",
    "                          (430, 300),\n",
    "                          (570, 300),\n",
    "                          (950, 500),\n",
    "                          (800, 500),\n",
    "                          (530, 320),\n",
    "                          (470, 320),\n",
    "                          (250, 500)]],\n",
    "                        dtype=np.int32)\n",
    "    masked_image = region_of_interest(edges, vertices)\n",
    "\n",
    "    # Step4: Hough-transformation\n",
    "    line_image, left_points, right_points = hough_lines(masked_image,\n",
    "                                                        rho=10,            # 1 # distance resolution in pixels of the Hough grid\n",
    "                                                        theta=np.pi / 120, # 180 # angular resolution in radians of the Hough grid\n",
    "                                                        threshold=30,      # minimum number of votes (intersections in Hough grid cell)\n",
    "                                                        min_line_len=3,    # 5 #minimum number of pixels making up a line\n",
    "                                                        max_line_gap=1)    # 1 # maximum gap in pixels between connectable line segments\n",
    "\n",
    "    # Step: devide lines into points\n",
    "    \n",
    "    line_image, lp0, lp1 = regression_line(line_image, left_points,  [100, 451], [255, 200, 0], 8)\n",
    "    line_image, rp0, rp1 = regression_line(line_image, right_points, [550, 901], [200, 255, 0], 8)\n",
    "\n",
    "    # step:\n",
    "    global lsp0, lsp1, rsp0, rsp1\n",
    "    if lsp0[0] == 0 and lsp0[1] == 0:\n",
    "        lsp0 = list(lp0)\n",
    "    if rsp0[0] == 0 and rsp0[1] == 0:\n",
    "        rsp0 = list(rp0)\n",
    "    if lsp1[0] == 0 and lsp1[1] == 0:\n",
    "        lsp1 = list(lp1)\n",
    "    if rsp1[0] == 0 and rsp1[1] == 0:\n",
    "        rsp1 = list(rp1)\n",
    "\n",
    "    weight = 0.2\n",
    "    if lp0[0] != 0 or lp0[1] != 0:\n",
    "        lsp0[0] = weight * lsp0[0] + (1.0 - weight) * lp0[0]\n",
    "        lsp0[1] = weight * lsp0[1] + (1.0 - weight) * lp0[1]\n",
    "    if rp0[0] != 0 or rp0[1] != 0:\n",
    "        rsp0[0] = weight * rsp0[0] + (1.0 - weight) * rp0[0]\n",
    "        rsp0[1] = weight * rsp0[1] + (1.0 - weight) * rp0[1]\n",
    "\n",
    "    cv2.line(line_image, (int(lsp0[0]), int(lsp0[1])), (int(lsp1[0]), int(lsp1[1])), [200, 100, 150], 20)\n",
    "    cv2.line(line_image, (int(rsp0[0]), int(rsp0[1])), (int(rsp1[0]), int(rsp1[1])), [200, 100, 150], 20)\n",
    "\n",
    "\n",
    "    # StepX: Overlay\n",
    "\n",
    "    # Create a \"color\" binary image to combine with line image\n",
    "    # color_edges = np.dstack((edges, edges, edges))\n",
    "    # result = weighted_img(line_image, color_edges, α=0.8, β=1., λ=0.)\n",
    "    # result = weighted_img(line_image, image, α=0.8, β=1., λ=0.)\n",
    "    result = weighted_img(line_image, normalized_image, α=0.8, β=1., λ=0.)\n",
    "    # colored_gray = np.dstack((blur_gray, blur_gray, blur_gray))\n",
    "    # result = weighted_img(line_image, colored_gray, α=0.8, β=1., λ=0.)\n",
    "\n",
    "    return result"
   ]
  },
  {
   "cell_type": "markdown",
   "metadata": {},
   "source": [
    "Let's try the one with the solid white lane on the right first ..."
   ]
  },
  {
   "cell_type": "code",
   "execution_count": 8,
   "metadata": {},
   "outputs": [
    {
     "ename": "NameError",
     "evalue": "name 'VideoFileClip' is not defined",
     "output_type": "error",
     "traceback": [
      "\u001b[0;31m---------------------------------------------------------------------------\u001b[0m",
      "\u001b[0;31mNameError\u001b[0m                                 Traceback (most recent call last)",
      "\u001b[0;32m<ipython-input-8-a2f90c110e80>\u001b[0m in \u001b[0;36m<module>\u001b[0;34m()\u001b[0m\n\u001b[1;32m      5\u001b[0m \u001b[0;31m## You may also uncomment the following line for a subclip of the first 5 seconds\u001b[0m\u001b[0;34m\u001b[0m\u001b[0;34m\u001b[0m\u001b[0m\n\u001b[1;32m      6\u001b[0m \u001b[0;31m##clip1 = VideoFileClip(\"test_videos/solidWhiteRight.mp4\").subclip(0,5)\u001b[0m\u001b[0;34m\u001b[0m\u001b[0;34m\u001b[0m\u001b[0m\n\u001b[0;32m----> 7\u001b[0;31m \u001b[0mclip1\u001b[0m \u001b[0;34m=\u001b[0m \u001b[0mVideoFileClip\u001b[0m\u001b[0;34m(\u001b[0m\u001b[0;34m\"test_videos/solidWhiteRight.mp4\"\u001b[0m\u001b[0;34m)\u001b[0m\u001b[0;34m\u001b[0m\u001b[0m\n\u001b[0m\u001b[1;32m      8\u001b[0m \u001b[0mwhite_clip\u001b[0m \u001b[0;34m=\u001b[0m \u001b[0mclip1\u001b[0m\u001b[0;34m.\u001b[0m\u001b[0mfl_image\u001b[0m\u001b[0;34m(\u001b[0m\u001b[0mprocess_image\u001b[0m\u001b[0;34m)\u001b[0m \u001b[0;31m#NOTE: this function expects color images!!\u001b[0m\u001b[0;34m\u001b[0m\u001b[0m\n\u001b[1;32m      9\u001b[0m \u001b[0mget_ipython\u001b[0m\u001b[0;34m(\u001b[0m\u001b[0;34m)\u001b[0m\u001b[0;34m.\u001b[0m\u001b[0mmagic\u001b[0m\u001b[0;34m(\u001b[0m\u001b[0;34m'time white_clip.write_videofile(white_output, audio=False)'\u001b[0m\u001b[0;34m)\u001b[0m\u001b[0;34m\u001b[0m\u001b[0m\n",
      "\u001b[0;31mNameError\u001b[0m: name 'VideoFileClip' is not defined"
     ]
    }
   ],
   "source": [
    "white_output = 'test_videos_output/solidWhiteRight.mp4'\n",
    "## To speed up the testing process you may want to try your pipeline on a shorter subclip of the video\n",
    "## To do so add .subclip(start_second,end_second) to the end of the line below\n",
    "## Where start_second and end_second are integer values representing the start and end of the subclip\n",
    "## You may also uncomment the following line for a subclip of the first 5 seconds\n",
    "##clip1 = VideoFileClip(\"test_videos/solidWhiteRight.mp4\").subclip(0,5)\n",
    "clip1 = VideoFileClip(\"test_videos/solidWhiteRight.mp4\")\n",
    "white_clip = clip1.fl_image(process_image) #NOTE: this function expects color images!!\n",
    "%time white_clip.write_videofile(white_output, audio=False)"
   ]
  },
  {
   "cell_type": "markdown",
   "metadata": {},
   "source": [
    "Play the video inline, or if you prefer find the video in your filesystem (should be in the same directory) and play it in your video player of choice."
   ]
  },
  {
   "cell_type": "code",
   "execution_count": null,
   "metadata": {},
   "outputs": [],
   "source": [
    "HTML(\"\"\"\n",
    "<video width=\"960\" height=\"540\" controls>\n",
    "  <source src=\"{0}\">\n",
    "</video>\n",
    "\"\"\".format(white_output))"
   ]
  },
  {
   "cell_type": "markdown",
   "metadata": {},
   "source": [
    "## Improve the draw_lines() function\n",
    "\n",
    "**At this point, if you were successful with making the pipeline and tuning parameters, you probably have the Hough line segments drawn onto the road, but what about identifying the full extent of the lane and marking it clearly as in the example video (P1_example.mp4)?  Think about defining a line to run the full length of the visible lane based on the line segments you identified with the Hough Transform. As mentioned previously, try to average and/or extrapolate the line segments you've detected to map out the full extent of the lane lines. You can see an example of the result you're going for in the video \"P1_example.mp4\".**\n",
    "\n",
    "**Go back and modify your draw_lines function accordingly and try re-running your pipeline. The new output should draw a single, solid line over the left lane line and a single, solid line over the right lane line. The lines should start from the bottom of the image and extend out to the top of the region of interest.**"
   ]
  },
  {
   "cell_type": "markdown",
   "metadata": {},
   "source": [
    "Now for the one with the solid yellow lane on the left. This one's more tricky!"
   ]
  },
  {
   "cell_type": "code",
   "execution_count": null,
   "metadata": {},
   "outputs": [],
   "source": [
    "yellow_output = 'test_videos_output/solidYellowLeft.mp4'\n",
    "## To speed up the testing process you may want to try your pipeline on a shorter subclip of the video\n",
    "## To do so add .subclip(start_second,end_second) to the end of the line below\n",
    "## Where start_second and end_second are integer values representing the start and end of the subclip\n",
    "## You may also uncomment the following line for a subclip of the first 5 seconds\n",
    "##clip2 = VideoFileClip('test_videos/solidYellowLeft.mp4').subclip(0,5)\n",
    "clip2 = VideoFileClip('test_videos/solidYellowLeft.mp4')\n",
    "yellow_clip = clip2.fl_image(process_image)\n",
    "%time yellow_clip.write_videofile(yellow_output, audio=False)"
   ]
  },
  {
   "cell_type": "code",
   "execution_count": null,
   "metadata": {},
   "outputs": [],
   "source": [
    "HTML(\"\"\"\n",
    "<video width=\"960\" height=\"540\" controls>\n",
    "  <source src=\"{0}\">\n",
    "</video>\n",
    "\"\"\".format(yellow_output))"
   ]
  },
  {
   "cell_type": "markdown",
   "metadata": {},
   "source": [
    "## Writeup and Submission\n",
    "\n",
    "If you're satisfied with your video outputs, it's time to make the report writeup in a pdf or markdown file. Once you have this Ipython notebook ready along with the writeup, it's time to submit for review! Here is a [link](https://github.com/udacity/CarND-LaneLines-P1/blob/master/writeup_template.md) to the writeup template file.\n"
   ]
  },
  {
   "cell_type": "markdown",
   "metadata": {
    "collapsed": true
   },
   "source": [
    "## Optional Challenge\n",
    "\n",
    "Try your lane finding pipeline on the video below.  Does it still work?  Can you figure out a way to make it more robust?  If you're up for the challenge, modify your pipeline so it works with this video and submit it along with the rest of your project!"
   ]
  },
  {
   "cell_type": "code",
   "execution_count": null,
   "metadata": {
    "collapsed": true
   },
   "outputs": [],
   "source": [
    "challenge_output = 'test_videos_output/challenge.mp4'\n",
    "## To speed up the testing process you may want to try your pipeline on a shorter subclip of the video\n",
    "## To do so add .subclip(start_second,end_second) to the end of the line below\n",
    "## Where start_second and end_second are integer values representing the start and end of the subclip\n",
    "## You may also uncomment the following line for a subclip of the first 5 seconds\n",
    "##clip3 = VideoFileClip('test_videos/challenge.mp4').subclip(0,5)\n",
    "clip3 = VideoFileClip('test_videos/challenge.mp4')\n",
    "challenge_clip = clip3.fl_image(process_image)\n",
    "%time challenge_clip.write_videofile(challenge_output, audio=False)"
   ]
  },
  {
   "cell_type": "code",
   "execution_count": null,
   "metadata": {
    "collapsed": true
   },
   "outputs": [],
   "source": [
    "HTML(\"\"\"\n",
    "<video width=\"960\" height=\"540\" controls>\n",
    "  <source src=\"{0}\">\n",
    "</video>\n",
    "\"\"\".format(challenge_output))"
   ]
  }
 ],
 "metadata": {
  "anaconda-cloud": {},
  "kernelspec": {
   "display_name": "Python 3",
   "language": "python",
   "name": "python3"
  },
  "language_info": {
   "codemirror_mode": {
    "name": "ipython",
    "version": 3
   },
   "file_extension": ".py",
   "mimetype": "text/x-python",
   "name": "python",
   "nbconvert_exporter": "python",
   "pygments_lexer": "ipython3",
   "version": "3.5.2"
  }
 },
 "nbformat": 4,
 "nbformat_minor": 1
}
